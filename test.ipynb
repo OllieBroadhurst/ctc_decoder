{
 "cells": [
  {
   "cell_type": "markdown",
   "metadata": {},
   "source": [
    "# MLM CTC Decoder"
   ]
  },
  {
   "cell_type": "code",
   "execution_count": 1,
   "metadata": {},
   "outputs": [],
   "source": [
    "import torch\n",
    "from transformers import RobertaTokenizer, Wav2Vec2FeatureExtractor\n",
    "from model.encoder_decoder import W2V2RobertaForCTC"
   ]
  },
  {
   "cell_type": "code",
   "execution_count": 2,
   "metadata": {},
   "outputs": [],
   "source": [
    "model = W2V2RobertaForCTC.from_pretrained(\"weights/encoder_decoder\")\n",
    "tokenizer = RobertaTokenizer.from_pretrained(\"weights/encoder_decoder\")\n",
    "feature_extractor = Wav2Vec2FeatureExtractor.from_pretrained(\"weights/models--anton-l--wav2vec2-base-lang-id/snapshots/1d4eda836bb7b7c53053393b65ddfbe1811e4d10\")"
   ]
  },
  {
   "cell_type": "code",
   "execution_count": 8,
   "metadata": {},
   "outputs": [
    {
     "name": "stdout",
     "output_type": "stream",
     "text": [
      "Predicted output sequence length: 125.0\n",
      "Actual output sequence length: 125\n"
     ]
    }
   ],
   "source": [
    "dummy_audio = torch.randn((160000, ))\n",
    "dummy_inputs = feature_extractor(dummy_audio, sampling_rate=16000, return_tensors=\"pt\")\n",
    "\n",
    "with torch.no_grad():\n",
    "    output = model(**dummy_inputs)"
   ]
  },
  {
   "cell_type": "code",
   "execution_count": 9,
   "metadata": {},
   "outputs": [
    {
     "data": {
      "text/plain": [
       "torch.Size([1, 125, 16385])"
      ]
     },
     "execution_count": 9,
     "metadata": {},
     "output_type": "execute_result"
    }
   ],
   "source": [
    "output.logits.shape"
   ]
  },
  {
   "cell_type": "code",
   "execution_count": null,
   "metadata": {},
   "outputs": [],
   "source": []
  }
 ],
 "metadata": {
  "kernelspec": {
   "display_name": "Python 3.8.15 ('transformers')",
   "language": "python",
   "name": "python3"
  },
  "language_info": {
   "codemirror_mode": {
    "name": "ipython",
    "version": 3
   },
   "file_extension": ".py",
   "mimetype": "text/x-python",
   "name": "python",
   "nbconvert_exporter": "python",
   "pygments_lexer": "ipython3",
   "version": "3.8.15 (default, Nov  4 2022, 15:16:59) [MSC v.1916 64 bit (AMD64)]"
  },
  "orig_nbformat": 4,
  "vscode": {
   "interpreter": {
    "hash": "c90e8c4f3f826d6716a4bcd4e600b70a4a8673be33ae5b1fc049cc15a2272750"
   }
  }
 },
 "nbformat": 4,
 "nbformat_minor": 2
}
